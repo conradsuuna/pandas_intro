{
 "cells": [
  {
   "cell_type": "markdown",
   "metadata": {},
   "source": [
    "## Introduction to Data Processing in Pandas"
   ]
  },
  {
   "cell_type": "markdown",
   "metadata": {},
   "source": [
    "## Dependencies\n",
    "- Pandas python library.\n",
    "- Basic knowledge of python and its data structures."
   ]
  },
  {
   "cell_type": "markdown",
   "metadata": {},
   "source": [
    "## Python data structure\n",
    "- List: For 1-dimensional vectors e.g (1,2,3)\n",
    "- Dictionary: For 2-dimensional vectors e.g {'first_name': 'Vitalis', 'last_name': 'Asiku'}"
   ]
  },
  {
   "cell_type": "code",
   "execution_count": 10,
   "metadata": {},
   "outputs": [],
   "source": [
    "# Create a list here\n",
    "# l_person = [\"Pamela Akello\", \"17-04-2000\", \"Bsc Software Eng\"]\n",
    "# l_person"
   ]
  },
  {
   "cell_type": "code",
   "execution_count": 11,
   "metadata": {},
   "outputs": [],
   "source": [
    "#Create a dictionary here\n",
    "# d_person = {\"name\": \"Pamela Akello\", \"dob\": \"17-04-2000\", \"course\": \"Bsc Software Eng\"}\n",
    "# d_person"
   ]
  },
  {
   "cell_type": "markdown",
   "metadata": {},
   "source": [
    "## Pandas Intro\n",
    "- It's a python library that provides utilities for working with data. Data can come from any source, excel, csv, databases etc.\n",
    "It's akin to the excel of the modern world except better. No need for Macros.\n",
    "- It consists of two basic datastructures:\n",
    "    Series\n",
    "    DataFrame: \n",
    "- Different data types: int, float, object.\n",
    "- Multiple operations:\n",
    "    - Where\n",
    "    - Groupby\n",
    "    - Unstack - creates a new DataFrame based on the index"
   ]
  },
  {
   "cell_type": "code",
   "execution_count": 6,
   "metadata": {},
   "outputs": [],
   "source": [
    "# import pandas as pd"
   ]
  },
  {
   "cell_type": "markdown",
   "metadata": {},
   "source": [
    "## Series\n",
    "- is a 1-dimensional vector/array i.e a row in a table. \n",
    "- Created using python list, tuple, dictionary data structure: (1,2,3)\n",
    "- Index, is the label for the row. Defaults to ints (0,1,2,...) else, takes up the supplied value."
   ]
  },
  {
   "cell_type": "code",
   "execution_count": 12,
   "metadata": {},
   "outputs": [],
   "source": [
    "#Using a list. The index is the corresponding index of the list value (0,1,2,...)\n",
    "# s = pd.Series(l_person)\n",
    "# s"
   ]
  },
  {
   "cell_type": "code",
   "execution_count": 13,
   "metadata": {},
   "outputs": [],
   "source": [
    "#Using a dictionary. The index is the dictionary keys.\n",
    "# s = pd.Series(d_person)\n",
    "# s['name']"
   ]
  },
  {
   "cell_type": "markdown",
   "metadata": {},
   "source": [
    "## DataFrame\n",
    "- Is a 2-dimensional vector i.e a row and column. \n",
    "- Widely used in pandas.\n",
    "- Uses two indexs, row-index and column-index\n",
    "- Created using a dicitonary of equal length."
   ]
  },
  {
   "cell_type": "code",
   "execution_count": 14,
   "metadata": {},
   "outputs": [],
   "source": [
    "# Same dictionary\n",
    "# d_person = {\n",
    "#     \"name\": ['Pamela Akello', \"Ben otim\"],\n",
    "#     \"age\": [20,21],\n",
    "#     \"course\": [\"Software Eng\", \"Computer Science\"]\n",
    "# }\n",
    "# df = pd.DataFrame(d_person)\n",
    "# df"
   ]
  },
  {
   "cell_type": "markdown",
   "metadata": {},
   "source": [
    "## Basic statistics\n",
    "- Descriptive statistics: Mean, Sum, Count, Standard Deviation.\n",
    "- Interquartile range, Median"
   ]
  },
  {
   "cell_type": "code",
   "execution_count": null,
   "metadata": {},
   "outputs": [],
   "source": []
  }
 ],
 "metadata": {
  "kernelspec": {
   "display_name": "ds_venv-hQwbm2IW",
   "language": "python",
   "name": "ds_venv-hqwbm2iw"
  },
  "language_info": {
   "codemirror_mode": {
    "name": "ipython",
    "version": 3
   },
   "file_extension": ".py",
   "mimetype": "text/x-python",
   "name": "python",
   "nbconvert_exporter": "python",
   "pygments_lexer": "ipython3",
   "version": "3.6.4"
  }
 },
 "nbformat": 4,
 "nbformat_minor": 2
}
